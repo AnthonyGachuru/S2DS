{
 "cells": [
  {
   "cell_type": "markdown",
   "metadata": {
    "collapsed": true
   },
   "source": [
    "## Predict Online News Article Performance\n",
    "\n",
    "- DATA: \n",
    "    - Obtained from the Google BigQuery database of a popular online newspaper\n",
    "    - Each row in the table corresponds to a unique article\n",
    "\n",
    "- OBJECTIVE:\n",
    "    - Predict article performance (the amount of clicks an article will get over a 7 day period) using just an hour of data."
   ]
  },
  {
   "cell_type": "markdown",
   "metadata": {},
   "source": [
    "### 1.0 Import "
   ]
  },
  {
   "cell_type": "code",
   "execution_count": 1,
   "metadata": {
    "collapsed": true
   },
   "outputs": [],
   "source": [
    "#Import some commonly used libraries\n",
    "import numpy as np\n",
    "import pandas as pd\n",
    "import matplotlib.pyplot as plt\n",
    "import seaborn as sns\n",
    "%matplotlib inline"
   ]
  },
  {
   "cell_type": "markdown",
   "metadata": {},
   "source": [
    "### 1.1 Import Data"
   ]
  },
  {
   "cell_type": "code",
   "execution_count": 2,
   "metadata": {
    "collapsed": false
   },
   "outputs": [],
   "source": [
    "#Read file - some pre-processing has been performed using Google BigQuery\n",
    "df = pd.read_csv(\"2016_11_14_7dayOldArticles_60mins_edit.csv\") #60 mins"
   ]
  },
  {
   "cell_type": "markdown",
   "metadata": {},
   "source": [
    "### 1.2 Examine some columns and basic stats"
   ]
  },
  {
   "cell_type": "code",
   "execution_count": 3,
   "metadata": {
    "collapsed": false
   },
   "outputs": [
    {
     "data": {
      "text/html": [
       "<div>\n",
       "<table border=\"1\" class=\"dataframe\">\n",
       "  <thead>\n",
       "    <tr style=\"text-align: right;\">\n",
       "      <th></th>\n",
       "      <th>articleId</th>\n",
       "      <th>articleId_totalViews_7days</th>\n",
       "      <th>date_time_min</th>\n",
       "      <th>age_day_Max</th>\n",
       "      <th>publish_date_min</th>\n",
       "      <th>artk_min_date_in_DB</th>\n",
       "      <th>sumrow_checkcolumn</th>\n",
       "      <th>MAX_article_date_time_mins_index</th>\n",
       "      <th>articleName</th>\n",
       "      <th>subSectionName</th>\n",
       "      <th>...</th>\n",
       "      <th>H1_view</th>\n",
       "      <th>H2_view</th>\n",
       "      <th>articleId_q1_fb_ref</th>\n",
       "      <th>articleId_q1_google_ref</th>\n",
       "      <th>articleId_q1_twitter_ref</th>\n",
       "      <th>articleId_q1_internal_ref</th>\n",
       "      <th>articleId_q1_paidFlag</th>\n",
       "      <th>articleId_q1_fb_paidPromo</th>\n",
       "      <th>articleId_q1_fb_internalFBPagePromo</th>\n",
       "      <th>articleId_q1_fb_organic</th>\n",
       "    </tr>\n",
       "  </thead>\n",
       "  <tbody>\n",
       "    <tr>\n",
       "      <th>0</th>\n",
       "      <td>1875985</td>\n",
       "      <td>1091325</td>\n",
       "      <td>2016-09-29 08:34:47.687 UTC</td>\n",
       "      <td>0</td>\n",
       "      <td>2016-09-29</td>\n",
       "      <td>2016-09-29</td>\n",
       "      <td>101</td>\n",
       "      <td>60</td>\n",
       "      <td>miss universe winner who sparked donald trump ...</td>\n",
       "      <td>NaN</td>\n",
       "      <td>...</td>\n",
       "      <td>101</td>\n",
       "      <td>101</td>\n",
       "      <td>0</td>\n",
       "      <td>4</td>\n",
       "      <td>0</td>\n",
       "      <td>87</td>\n",
       "      <td>0</td>\n",
       "      <td>0</td>\n",
       "      <td>0</td>\n",
       "      <td>0</td>\n",
       "    </tr>\n",
       "    <tr>\n",
       "      <th>1</th>\n",
       "      <td>1721080</td>\n",
       "      <td>973517</td>\n",
       "      <td>2016-09-03 12:01:26.882 UTC</td>\n",
       "      <td>0</td>\n",
       "      <td>2016-09-03</td>\n",
       "      <td>2016-09-03</td>\n",
       "      <td>65853</td>\n",
       "      <td>60</td>\n",
       "      <td>cops arrest two women after bouncer who appear...</td>\n",
       "      <td>NaN</td>\n",
       "      <td>...</td>\n",
       "      <td>65853</td>\n",
       "      <td>65853</td>\n",
       "      <td>47136</td>\n",
       "      <td>16</td>\n",
       "      <td>1190</td>\n",
       "      <td>15038</td>\n",
       "      <td>2</td>\n",
       "      <td>2</td>\n",
       "      <td>44692</td>\n",
       "      <td>2442</td>\n",
       "    </tr>\n",
       "    <tr>\n",
       "      <th>2</th>\n",
       "      <td>1627032</td>\n",
       "      <td>827470</td>\n",
       "      <td>2016-08-17 12:02:48.876 UTC</td>\n",
       "      <td>0</td>\n",
       "      <td>2016-08-17</td>\n",
       "      <td>2016-08-17</td>\n",
       "      <td>637</td>\n",
       "      <td>60</td>\n",
       "      <td>‘we’re delighted to become a family’: big brot...</td>\n",
       "      <td>tv &amp; showbiz:celebrity</td>\n",
       "      <td>...</td>\n",
       "      <td>637</td>\n",
       "      <td>637</td>\n",
       "      <td>0</td>\n",
       "      <td>30</td>\n",
       "      <td>0</td>\n",
       "      <td>586</td>\n",
       "      <td>0</td>\n",
       "      <td>0</td>\n",
       "      <td>0</td>\n",
       "      <td>0</td>\n",
       "    </tr>\n",
       "    <tr>\n",
       "      <th>3</th>\n",
       "      <td>1649598</td>\n",
       "      <td>764573</td>\n",
       "      <td>2016-08-21 18:55:42.886 UTC</td>\n",
       "      <td>0</td>\n",
       "      <td>2016-08-21</td>\n",
       "      <td>2016-08-21</td>\n",
       "      <td>55764</td>\n",
       "      <td>60</td>\n",
       "      <td>danny dyer beaten up in front of daughter by m...</td>\n",
       "      <td>tv &amp; showbiz:bizarre</td>\n",
       "      <td>...</td>\n",
       "      <td>55764</td>\n",
       "      <td>55764</td>\n",
       "      <td>38091</td>\n",
       "      <td>330</td>\n",
       "      <td>3465</td>\n",
       "      <td>12146</td>\n",
       "      <td>0</td>\n",
       "      <td>0</td>\n",
       "      <td>30926</td>\n",
       "      <td>7165</td>\n",
       "    </tr>\n",
       "    <tr>\n",
       "      <th>4</th>\n",
       "      <td>1720830</td>\n",
       "      <td>760979</td>\n",
       "      <td>2016-09-03 11:56:16.096 UTC</td>\n",
       "      <td>0</td>\n",
       "      <td>2016-09-03</td>\n",
       "      <td>2016-09-03</td>\n",
       "      <td>2438</td>\n",
       "      <td>60</td>\n",
       "      <td>crocodile hunter steve irwin writes heartbreak...</td>\n",
       "      <td>NaN</td>\n",
       "      <td>...</td>\n",
       "      <td>2438</td>\n",
       "      <td>2438</td>\n",
       "      <td>578</td>\n",
       "      <td>5</td>\n",
       "      <td>120</td>\n",
       "      <td>1686</td>\n",
       "      <td>0</td>\n",
       "      <td>0</td>\n",
       "      <td>553</td>\n",
       "      <td>25</td>\n",
       "    </tr>\n",
       "  </tbody>\n",
       "</table>\n",
       "<p>5 rows × 40 columns</p>\n",
       "</div>"
      ],
      "text/plain": [
       "   articleId  articleId_totalViews_7days                date_time_min  \\\n",
       "0    1875985                     1091325  2016-09-29 08:34:47.687 UTC   \n",
       "1    1721080                      973517  2016-09-03 12:01:26.882 UTC   \n",
       "2    1627032                      827470  2016-08-17 12:02:48.876 UTC   \n",
       "3    1649598                      764573  2016-08-21 18:55:42.886 UTC   \n",
       "4    1720830                      760979  2016-09-03 11:56:16.096 UTC   \n",
       "\n",
       "   age_day_Max publish_date_min artk_min_date_in_DB  sumrow_checkcolumn  \\\n",
       "0            0       2016-09-29          2016-09-29                 101   \n",
       "1            0       2016-09-03          2016-09-03               65853   \n",
       "2            0       2016-08-17          2016-08-17                 637   \n",
       "3            0       2016-08-21          2016-08-21               55764   \n",
       "4            0       2016-09-03          2016-09-03                2438   \n",
       "\n",
       "   MAX_article_date_time_mins_index  \\\n",
       "0                                60   \n",
       "1                                60   \n",
       "2                                60   \n",
       "3                                60   \n",
       "4                                60   \n",
       "\n",
       "                                         articleName          subSectionName  \\\n",
       "0  miss universe winner who sparked donald trump ...                     NaN   \n",
       "1  cops arrest two women after bouncer who appear...                     NaN   \n",
       "2  ‘we’re delighted to become a family’: big brot...  tv & showbiz:celebrity   \n",
       "3  danny dyer beaten up in front of daughter by m...    tv & showbiz:bizarre   \n",
       "4  crocodile hunter steve irwin writes heartbreak...                     NaN   \n",
       "\n",
       "            ...             H1_view  H2_view  articleId_q1_fb_ref  \\\n",
       "0           ...                 101      101                    0   \n",
       "1           ...               65853    65853                47136   \n",
       "2           ...                 637      637                    0   \n",
       "3           ...               55764    55764                38091   \n",
       "4           ...                2438     2438                  578   \n",
       "\n",
       "   articleId_q1_google_ref  articleId_q1_twitter_ref  \\\n",
       "0                        4                         0   \n",
       "1                       16                      1190   \n",
       "2                       30                         0   \n",
       "3                      330                      3465   \n",
       "4                        5                       120   \n",
       "\n",
       "   articleId_q1_internal_ref  articleId_q1_paidFlag  \\\n",
       "0                         87                      0   \n",
       "1                      15038                      2   \n",
       "2                        586                      0   \n",
       "3                      12146                      0   \n",
       "4                       1686                      0   \n",
       "\n",
       "   articleId_q1_fb_paidPromo  articleId_q1_fb_internalFBPagePromo  \\\n",
       "0                          0                                    0   \n",
       "1                          2                                44692   \n",
       "2                          0                                    0   \n",
       "3                          0                                30926   \n",
       "4                          0                                  553   \n",
       "\n",
       "   articleId_q1_fb_organic  \n",
       "0                        0  \n",
       "1                     2442  \n",
       "2                        0  \n",
       "3                     7165  \n",
       "4                       25  \n",
       "\n",
       "[5 rows x 40 columns]"
      ]
     },
     "execution_count": 3,
     "metadata": {},
     "output_type": "execute_result"
    }
   ],
   "source": [
    "df.head()"
   ]
  },
  {
   "cell_type": "code",
   "execution_count": 4,
   "metadata": {
    "collapsed": false
   },
   "outputs": [
    {
     "data": {
      "text/html": [
       "<div>\n",
       "<table border=\"1\" class=\"dataframe\">\n",
       "  <thead>\n",
       "    <tr style=\"text-align: right;\">\n",
       "      <th></th>\n",
       "      <th>articleId</th>\n",
       "      <th>articleId_totalViews_7days</th>\n",
       "      <th>age_day_Max</th>\n",
       "      <th>sumrow_checkcolumn</th>\n",
       "      <th>MAX_article_date_time_mins_index</th>\n",
       "      <th>paidFlag</th>\n",
       "      <th>mean_hourOfDay</th>\n",
       "      <th>RG_Homepage</th>\n",
       "      <th>RG_Article</th>\n",
       "      <th>RG_Section</th>\n",
       "      <th>...</th>\n",
       "      <th>H1_view</th>\n",
       "      <th>H2_view</th>\n",
       "      <th>articleId_q1_fb_ref</th>\n",
       "      <th>articleId_q1_google_ref</th>\n",
       "      <th>articleId_q1_twitter_ref</th>\n",
       "      <th>articleId_q1_internal_ref</th>\n",
       "      <th>articleId_q1_paidFlag</th>\n",
       "      <th>articleId_q1_fb_paidPromo</th>\n",
       "      <th>articleId_q1_fb_internalFBPagePromo</th>\n",
       "      <th>articleId_q1_fb_organic</th>\n",
       "    </tr>\n",
       "  </thead>\n",
       "  <tbody>\n",
       "    <tr>\n",
       "      <th>count</th>\n",
       "      <td>20535.000000</td>\n",
       "      <td>20535.000000</td>\n",
       "      <td>20535.000000</td>\n",
       "      <td>20535.000000</td>\n",
       "      <td>20535.000000</td>\n",
       "      <td>20535.000000</td>\n",
       "      <td>20535.000000</td>\n",
       "      <td>20535.000000</td>\n",
       "      <td>20535.000000</td>\n",
       "      <td>20535</td>\n",
       "      <td>...</td>\n",
       "      <td>20535.000000</td>\n",
       "      <td>20535.000000</td>\n",
       "      <td>20535.000000</td>\n",
       "      <td>20535.000000</td>\n",
       "      <td>20535.000000</td>\n",
       "      <td>20535.000000</td>\n",
       "      <td>20535.000000</td>\n",
       "      <td>20535.000000</td>\n",
       "      <td>20535.000000</td>\n",
       "      <td>20535.000000</td>\n",
       "    </tr>\n",
       "    <tr>\n",
       "      <th>mean</th>\n",
       "      <td>1714262.998977</td>\n",
       "      <td>10345.854492</td>\n",
       "      <td>0.047042</td>\n",
       "      <td>537.726613</td>\n",
       "      <td>58.016995</td>\n",
       "      <td>0.000033</td>\n",
       "      <td>12.914676</td>\n",
       "      <td>0.296691</td>\n",
       "      <td>0.264094</td>\n",
       "      <td>0</td>\n",
       "      <td>...</td>\n",
       "      <td>537.726613</td>\n",
       "      <td>537.726613</td>\n",
       "      <td>175.717994</td>\n",
       "      <td>25.644315</td>\n",
       "      <td>25.404480</td>\n",
       "      <td>263.223131</td>\n",
       "      <td>0.128464</td>\n",
       "      <td>0.118188</td>\n",
       "      <td>156.415047</td>\n",
       "      <td>19.184758</td>\n",
       "    </tr>\n",
       "    <tr>\n",
       "      <th>std</th>\n",
       "      <td>106021.228633</td>\n",
       "      <td>34507.967560</td>\n",
       "      <td>0.211733</td>\n",
       "      <td>2268.851129</td>\n",
       "      <td>6.644008</td>\n",
       "      <td>0.004402</td>\n",
       "      <td>6.090847</td>\n",
       "      <td>0.253922</td>\n",
       "      <td>0.133681</td>\n",
       "      <td>0</td>\n",
       "      <td>...</td>\n",
       "      <td>2268.851129</td>\n",
       "      <td>2268.851129</td>\n",
       "      <td>1278.515340</td>\n",
       "      <td>434.730077</td>\n",
       "      <td>136.288018</td>\n",
       "      <td>676.779803</td>\n",
       "      <td>11.274217</td>\n",
       "      <td>10.342640</td>\n",
       "      <td>1147.771030</td>\n",
       "      <td>188.263756</td>\n",
       "    </tr>\n",
       "    <tr>\n",
       "      <th>min</th>\n",
       "      <td>1282760.000000</td>\n",
       "      <td>3.000000</td>\n",
       "      <td>0.000000</td>\n",
       "      <td>1.000000</td>\n",
       "      <td>0.000000</td>\n",
       "      <td>0.000000</td>\n",
       "      <td>0.000000</td>\n",
       "      <td>0.000000</td>\n",
       "      <td>0.000000</td>\n",
       "      <td>0</td>\n",
       "      <td>...</td>\n",
       "      <td>1.000000</td>\n",
       "      <td>1.000000</td>\n",
       "      <td>0.000000</td>\n",
       "      <td>0.000000</td>\n",
       "      <td>0.000000</td>\n",
       "      <td>0.000000</td>\n",
       "      <td>0.000000</td>\n",
       "      <td>0.000000</td>\n",
       "      <td>0.000000</td>\n",
       "      <td>0.000000</td>\n",
       "    </tr>\n",
       "    <tr>\n",
       "      <th>25%</th>\n",
       "      <td>1620971.000000</td>\n",
       "      <td>761.000000</td>\n",
       "      <td>0.000000</td>\n",
       "      <td>34.000000</td>\n",
       "      <td>59.000000</td>\n",
       "      <td>0.000000</td>\n",
       "      <td>9.520000</td>\n",
       "      <td>0.040000</td>\n",
       "      <td>0.180000</td>\n",
       "      <td>0</td>\n",
       "      <td>...</td>\n",
       "      <td>34.000000</td>\n",
       "      <td>34.000000</td>\n",
       "      <td>0.000000</td>\n",
       "      <td>0.000000</td>\n",
       "      <td>0.000000</td>\n",
       "      <td>20.000000</td>\n",
       "      <td>0.000000</td>\n",
       "      <td>0.000000</td>\n",
       "      <td>0.000000</td>\n",
       "      <td>0.000000</td>\n",
       "    </tr>\n",
       "    <tr>\n",
       "      <th>50%</th>\n",
       "      <td>1714697.000000</td>\n",
       "      <td>2322.000000</td>\n",
       "      <td>0.000000</td>\n",
       "      <td>108.000000</td>\n",
       "      <td>60.000000</td>\n",
       "      <td>0.000000</td>\n",
       "      <td>13.130000</td>\n",
       "      <td>0.260000</td>\n",
       "      <td>0.260000</td>\n",
       "      <td>0</td>\n",
       "      <td>...</td>\n",
       "      <td>108.000000</td>\n",
       "      <td>108.000000</td>\n",
       "      <td>0.000000</td>\n",
       "      <td>3.000000</td>\n",
       "      <td>0.000000</td>\n",
       "      <td>73.000000</td>\n",
       "      <td>0.000000</td>\n",
       "      <td>0.000000</td>\n",
       "      <td>0.000000</td>\n",
       "      <td>0.000000</td>\n",
       "    </tr>\n",
       "    <tr>\n",
       "      <th>75%</th>\n",
       "      <td>1806295.500000</td>\n",
       "      <td>7523.000000</td>\n",
       "      <td>0.000000</td>\n",
       "      <td>304.000000</td>\n",
       "      <td>60.000000</td>\n",
       "      <td>0.000000</td>\n",
       "      <td>17.340000</td>\n",
       "      <td>0.530000</td>\n",
       "      <td>0.340000</td>\n",
       "      <td>0</td>\n",
       "      <td>...</td>\n",
       "      <td>304.000000</td>\n",
       "      <td>304.000000</td>\n",
       "      <td>0.000000</td>\n",
       "      <td>12.000000</td>\n",
       "      <td>1.000000</td>\n",
       "      <td>225.500000</td>\n",
       "      <td>0.000000</td>\n",
       "      <td>0.000000</td>\n",
       "      <td>0.000000</td>\n",
       "      <td>0.000000</td>\n",
       "    </tr>\n",
       "    <tr>\n",
       "      <th>max</th>\n",
       "      <td>1894366.000000</td>\n",
       "      <td>1091325.000000</td>\n",
       "      <td>1.000000</td>\n",
       "      <td>89422.000000</td>\n",
       "      <td>60.000000</td>\n",
       "      <td>0.630000</td>\n",
       "      <td>23.000000</td>\n",
       "      <td>1.000000</td>\n",
       "      <td>1.000000</td>\n",
       "      <td>0</td>\n",
       "      <td>...</td>\n",
       "      <td>89422.000000</td>\n",
       "      <td>89422.000000</td>\n",
       "      <td>47136.000000</td>\n",
       "      <td>58837.000000</td>\n",
       "      <td>6595.000000</td>\n",
       "      <td>15038.000000</td>\n",
       "      <td>1246.000000</td>\n",
       "      <td>1173.000000</td>\n",
       "      <td>44692.000000</td>\n",
       "      <td>12026.000000</td>\n",
       "    </tr>\n",
       "  </tbody>\n",
       "</table>\n",
       "<p>8 rows × 35 columns</p>\n",
       "</div>"
      ],
      "text/plain": [
       "            articleId  articleId_totalViews_7days   age_day_Max  \\\n",
       "count    20535.000000                20535.000000  20535.000000   \n",
       "mean   1714262.998977                10345.854492      0.047042   \n",
       "std     106021.228633                34507.967560      0.211733   \n",
       "min    1282760.000000                    3.000000      0.000000   \n",
       "25%    1620971.000000                  761.000000      0.000000   \n",
       "50%    1714697.000000                 2322.000000      0.000000   \n",
       "75%    1806295.500000                 7523.000000      0.000000   \n",
       "max    1894366.000000              1091325.000000      1.000000   \n",
       "\n",
       "       sumrow_checkcolumn  MAX_article_date_time_mins_index      paidFlag  \\\n",
       "count        20535.000000                      20535.000000  20535.000000   \n",
       "mean           537.726613                         58.016995      0.000033   \n",
       "std           2268.851129                          6.644008      0.004402   \n",
       "min              1.000000                          0.000000      0.000000   \n",
       "25%             34.000000                         59.000000      0.000000   \n",
       "50%            108.000000                         60.000000      0.000000   \n",
       "75%            304.000000                         60.000000      0.000000   \n",
       "max          89422.000000                         60.000000      0.630000   \n",
       "\n",
       "       mean_hourOfDay   RG_Homepage    RG_Article  RG_Section  \\\n",
       "count    20535.000000  20535.000000  20535.000000       20535   \n",
       "mean        12.914676      0.296691      0.264094           0   \n",
       "std          6.090847      0.253922      0.133681           0   \n",
       "min          0.000000      0.000000      0.000000           0   \n",
       "25%          9.520000      0.040000      0.180000           0   \n",
       "50%         13.130000      0.260000      0.260000           0   \n",
       "75%         17.340000      0.530000      0.340000           0   \n",
       "max         23.000000      1.000000      1.000000           0   \n",
       "\n",
       "                ...                  H1_view       H2_view  \\\n",
       "count           ...             20535.000000  20535.000000   \n",
       "mean            ...               537.726613    537.726613   \n",
       "std             ...              2268.851129   2268.851129   \n",
       "min             ...                 1.000000      1.000000   \n",
       "25%             ...                34.000000     34.000000   \n",
       "50%             ...               108.000000    108.000000   \n",
       "75%             ...               304.000000    304.000000   \n",
       "max             ...             89422.000000  89422.000000   \n",
       "\n",
       "       articleId_q1_fb_ref  articleId_q1_google_ref  articleId_q1_twitter_ref  \\\n",
       "count         20535.000000             20535.000000              20535.000000   \n",
       "mean            175.717994                25.644315                 25.404480   \n",
       "std            1278.515340               434.730077                136.288018   \n",
       "min               0.000000                 0.000000                  0.000000   \n",
       "25%               0.000000                 0.000000                  0.000000   \n",
       "50%               0.000000                 3.000000                  0.000000   \n",
       "75%               0.000000                12.000000                  1.000000   \n",
       "max           47136.000000             58837.000000               6595.000000   \n",
       "\n",
       "       articleId_q1_internal_ref  articleId_q1_paidFlag  \\\n",
       "count               20535.000000           20535.000000   \n",
       "mean                  263.223131               0.128464   \n",
       "std                   676.779803              11.274217   \n",
       "min                     0.000000               0.000000   \n",
       "25%                    20.000000               0.000000   \n",
       "50%                    73.000000               0.000000   \n",
       "75%                   225.500000               0.000000   \n",
       "max                 15038.000000            1246.000000   \n",
       "\n",
       "       articleId_q1_fb_paidPromo  articleId_q1_fb_internalFBPagePromo  \\\n",
       "count               20535.000000                         20535.000000   \n",
       "mean                    0.118188                           156.415047   \n",
       "std                    10.342640                          1147.771030   \n",
       "min                     0.000000                             0.000000   \n",
       "25%                     0.000000                             0.000000   \n",
       "50%                     0.000000                             0.000000   \n",
       "75%                     0.000000                             0.000000   \n",
       "max                  1173.000000                         44692.000000   \n",
       "\n",
       "       articleId_q1_fb_organic  \n",
       "count             20535.000000  \n",
       "mean                 19.184758  \n",
       "std                 188.263756  \n",
       "min                   0.000000  \n",
       "25%                   0.000000  \n",
       "50%                   0.000000  \n",
       "75%                   0.000000  \n",
       "max               12026.000000  \n",
       "\n",
       "[8 rows x 35 columns]"
      ]
     },
     "execution_count": 4,
     "metadata": {},
     "output_type": "execute_result"
    }
   ],
   "source": [
    "df.describe()"
   ]
  },
  {
   "cell_type": "code",
   "execution_count": 5,
   "metadata": {
    "collapsed": false
   },
   "outputs": [
    {
     "name": "stdout",
     "output_type": "stream",
     "text": [
      "articleId\n",
      "articleId_totalViews_7days\n",
      "date_time_min\n",
      "age_day_Max\n",
      "publish_date_min\n",
      "artk_min_date_in_DB\n",
      "sumrow_checkcolumn\n",
      "MAX_article_date_time_mins_index\n",
      "articleName\n",
      "subSectionName\n",
      "paidFlag\n",
      "mean_hourOfDay\n",
      "RG_Homepage\n",
      "RG_Article\n",
      "RG_Section\n",
      "RG_Facebook\n",
      "RG_Twitter\n",
      "RG_Google\n",
      "RG_Other_Drudge_Direct\n",
      "S_TVShowBiz\n",
      "S_news\n",
      "S_living\n",
      "S_sport\n",
      "S_other\n",
      "fb_paidPromo\n",
      "fb_internalPromo\n",
      "fb_organic\n",
      "view_15mins\n",
      "view_30mins\n",
      "view_45mins\n",
      "H1_view\n",
      "H2_view\n",
      "articleId_q1_fb_ref\n",
      "articleId_q1_google_ref\n",
      "articleId_q1_twitter_ref\n",
      "articleId_q1_internal_ref\n",
      "articleId_q1_paidFlag\n",
      "articleId_q1_fb_paidPromo\n",
      "articleId_q1_fb_internalFBPagePromo\n",
      "articleId_q1_fb_organic\n"
     ]
    }
   ],
   "source": [
    "for column in df.columns:\n",
    "    print column"
   ]
  },
  {
   "cell_type": "markdown",
   "metadata": {},
   "source": [
    "#### Looking at the above:\n",
    "- We have a table consisting of 20535 rows, each for a unique article on the newspaper's website\n",
    "- We then have a number of attributes:\n",
    "    - articleId - the unique article id for a specific article\n",
    "    - articleId_totalViews_7days - the total amount of views/clicks for each article over a common 7day period\n",
    "    - date_time_min - the date and time at which the article is first viewed\n",
    "    - articleName - the article name or headline\n",
    "    - subSectionName - the subSection in which the article is posted\n",
    "    - paidFlag - whether the newspaper has paid to promote this article online\n",
    "    - mean_hourOfDay - the average hour of day that the article was accessed\n",
    "    - RG_Homepage/Article/Section/Facebook/Twitter/Google/Other - the RG (refferer group) - a percentage breakdown of where the traffic for each article is coming from\n",
    "    - S_TVShowBiz/news/living/sport/other - the Section in which the article is posted\n",
    "    - fb_paidPromo - paid promotion was performed on facebook\n",
    "    - fb_internalPromo - article was promoted internally, on the newspapers facebook homepage\n",
    "    - fb_organic - article was shared organically among users on facebook\n",
    "    - view_15mins/30mins/45mins - views in the first 15, 30 and 45 mins respectively\n",
    "    - H1_view - views in first hour\n",
    "    - articleId_q1_fb_ref/google_ref/etc. - as above but aggregated over the first 15 minutes of the article's release"
   ]
  },
  {
   "cell_type": "markdown",
   "metadata": {},
   "source": [
    "### 2.0 Null subSectionName\n",
    "- We have some null entries in our dataset - not every subSectionName entry is filled\n",
    "- Therefore we will perform some analysis of the articleNames and their associated subSectionNames, making use of TF-IDF vectorization\n",
    "- Then, in cases where subSectionName is missing we will use the text present in the article headline to predict subSectionName"
   ]
  },
  {
   "cell_type": "markdown",
   "metadata": {},
   "source": [
    "### 2.1 Create Text Analysis function\n",
    "- Create a function that uses the genesis and nltk libraries to predict empty subSectionName values from the text in the article headline"
   ]
  },
  {
   "cell_type": "code",
   "execution_count": 6,
   "metadata": {
    "collapsed": true
   },
   "outputs": [],
   "source": [
    "def subSectionFill(df):\n",
    "    '''Function to take in a dataframe with missing subSectionNames and use the\n",
    "    text of the articleName to predict the correct subSectionName category'''\n",
    "    \n",
    "    from gensim.models import Word2Vec\n",
    "    from sklearn.feature_extraction.text import TfidfVectorizer\n",
    "    from sklearn.preprocessing import LabelEncoder\n",
    "    from sklearn.linear_model import LogisticRegression\n",
    "    import nltk\n",
    "    nltk.download('punkt')\n",
    "    \n",
    "    # Use just two columns from our table. We'll take 'ArticleName',\n",
    "    # extract tokens from it and turn into features\n",
    "    train_set = df[[\"articleName\", 'subSectionName']]\n",
    "\n",
    "    # For usage in tokenizer Names should be text variables\n",
    "    train_set[\"articleName\"] = train_set[\"articleName\"].astype(str) # All our article names need be strings\n",
    "\n",
    "    # We'll take just those rows which contain subSectionName and will call them train set\n",
    "    train_data = train_set[pd.notnull(df['subSectionName'])]\n",
    "    test_data = train_set[pd.isnull(df['subSectionName'])]\n",
    "\n",
    "    # Create NLTK vectorizer\n",
    "    tf_vect = TfidfVectorizer(min_df=2, tokenizer=nltk.word_tokenize, preprocessor=None, stop_words='english')\n",
    "\n",
    "    # Create features from artcile names\n",
    "    train_data_features = tf_vect.fit_transform(train_data['articleName'])\n",
    "    \n",
    "    clf = LogisticRegression(n_jobs=1, C=1e5)\n",
    "    clf = clf.fit(train_data_features, train_data['subSectionName'])\n",
    "\n",
    "    # Take subSectionNames as labels\n",
    "    data_features = tf_vect.transform(test_data['articleName'])\n",
    "\n",
    "    # Predict tags and assign them to dataset\n",
    "    predictions = clf.predict(data_features)\n",
    "    test_data['subSectionName'] = predictions\n",
    "\n",
    "    inds = test_data.index.values\n",
    "    i = np.arange(0,np.size(inds))\n",
    "    df.set_value(inds, 'subSectionName', test_data.iloc[i]['subSectionName'])\n",
    "\n",
    "\n",
    "    le = LabelEncoder()\n",
    "    my_tags = train_data['subSectionName'].unique()\n",
    "    le.fit(my_tags)\n",
    "    encoded_labels = le.transform(df['subSectionName'])\n",
    "\n",
    "    df = df.set_value(np.arange(0,np.size(df['subSectionName'])), 'subSectionName', encoded_labels)   \n",
    "    \n",
    "    return df"
   ]
  },
  {
   "cell_type": "markdown",
   "metadata": {},
   "source": [
    "### 2.2 Fill null subSectionName entries with predicted label"
   ]
  },
  {
   "cell_type": "code",
   "execution_count": 7,
   "metadata": {
    "collapsed": false
   },
   "outputs": [
    {
     "name": "stderr",
     "output_type": "stream",
     "text": [
      "C:\\Users\\James\\Anaconda2\\lib\\site-packages\\ipykernel\\__main__.py:17: SettingWithCopyWarning: \n",
      "A value is trying to be set on a copy of a slice from a DataFrame.\n",
      "Try using .loc[row_indexer,col_indexer] = value instead\n",
      "\n",
      "See the caveats in the documentation: http://pandas.pydata.org/pandas-docs/stable/indexing.html#indexing-view-versus-copy\n",
      "C:\\Users\\James\\Anaconda2\\lib\\site-packages\\ipykernel\\__main__.py:37: SettingWithCopyWarning: \n",
      "A value is trying to be set on a copy of a slice from a DataFrame.\n",
      "Try using .loc[row_indexer,col_indexer] = value instead\n",
      "\n",
      "See the caveats in the documentation: http://pandas.pydata.org/pandas-docs/stable/indexing.html#indexing-view-versus-copy\n"
     ]
    },
    {
     "name": "stdout",
     "output_type": "stream",
     "text": [
      "[nltk_data] Downloading package punkt to\n",
      "[nltk_data]     C:\\Users\\James\\AppData\\Roaming\\nltk_data...\n",
      "[nltk_data]   Package punkt is already up-to-date!\n"
     ]
    },
    {
     "data": {
      "text/html": [
       "<div>\n",
       "<table border=\"1\" class=\"dataframe\">\n",
       "  <thead>\n",
       "    <tr style=\"text-align: right;\">\n",
       "      <th></th>\n",
       "      <th>articleId</th>\n",
       "      <th>articleId_totalViews_7days</th>\n",
       "      <th>date_time_min</th>\n",
       "      <th>age_day_Max</th>\n",
       "      <th>publish_date_min</th>\n",
       "      <th>artk_min_date_in_DB</th>\n",
       "      <th>sumrow_checkcolumn</th>\n",
       "      <th>MAX_article_date_time_mins_index</th>\n",
       "      <th>articleName</th>\n",
       "      <th>subSectionName</th>\n",
       "      <th>...</th>\n",
       "      <th>H1_view</th>\n",
       "      <th>H2_view</th>\n",
       "      <th>articleId_q1_fb_ref</th>\n",
       "      <th>articleId_q1_google_ref</th>\n",
       "      <th>articleId_q1_twitter_ref</th>\n",
       "      <th>articleId_q1_internal_ref</th>\n",
       "      <th>articleId_q1_paidFlag</th>\n",
       "      <th>articleId_q1_fb_paidPromo</th>\n",
       "      <th>articleId_q1_fb_internalFBPagePromo</th>\n",
       "      <th>articleId_q1_fb_organic</th>\n",
       "    </tr>\n",
       "  </thead>\n",
       "  <tbody>\n",
       "    <tr>\n",
       "      <th>0</th>\n",
       "      <td>1875985</td>\n",
       "      <td>1091325</td>\n",
       "      <td>2016-09-29 08:34:47.687 UTC</td>\n",
       "      <td>0</td>\n",
       "      <td>2016-09-29</td>\n",
       "      <td>2016-09-29</td>\n",
       "      <td>101</td>\n",
       "      <td>60</td>\n",
       "      <td>miss universe winner who sparked donald trump ...</td>\n",
       "      <td>38</td>\n",
       "      <td>...</td>\n",
       "      <td>101</td>\n",
       "      <td>101</td>\n",
       "      <td>0</td>\n",
       "      <td>4</td>\n",
       "      <td>0</td>\n",
       "      <td>87</td>\n",
       "      <td>0</td>\n",
       "      <td>0</td>\n",
       "      <td>0</td>\n",
       "      <td>0</td>\n",
       "    </tr>\n",
       "  </tbody>\n",
       "</table>\n",
       "<p>1 rows × 40 columns</p>\n",
       "</div>"
      ],
      "text/plain": [
       "   articleId  articleId_totalViews_7days                date_time_min  \\\n",
       "0    1875985                     1091325  2016-09-29 08:34:47.687 UTC   \n",
       "\n",
       "   age_day_Max publish_date_min artk_min_date_in_DB  sumrow_checkcolumn  \\\n",
       "0            0       2016-09-29          2016-09-29                 101   \n",
       "\n",
       "   MAX_article_date_time_mins_index  \\\n",
       "0                                60   \n",
       "\n",
       "                                         articleName  subSectionName  \\\n",
       "0  miss universe winner who sparked donald trump ...              38   \n",
       "\n",
       "            ...             H1_view  H2_view  articleId_q1_fb_ref  \\\n",
       "0           ...                 101      101                    0   \n",
       "\n",
       "   articleId_q1_google_ref  articleId_q1_twitter_ref  \\\n",
       "0                        4                         0   \n",
       "\n",
       "   articleId_q1_internal_ref  articleId_q1_paidFlag  \\\n",
       "0                         87                      0   \n",
       "\n",
       "   articleId_q1_fb_paidPromo  articleId_q1_fb_internalFBPagePromo  \\\n",
       "0                          0                                    0   \n",
       "\n",
       "   articleId_q1_fb_organic  \n",
       "0                        0  \n",
       "\n",
       "[1 rows x 40 columns]"
      ]
     },
     "execution_count": 7,
     "metadata": {},
     "output_type": "execute_result"
    }
   ],
   "source": [
    "subSectionFill(df)\n",
    "\n",
    "df.head(1)"
   ]
  },
  {
   "cell_type": "markdown",
   "metadata": {
    "collapsed": true
   },
   "source": [
    "### 3.0 Article Performance Categorization\n",
    "- We have a range of values for the number of hits an article receives over the 7 day period\n",
    "- Rather than try and predict the exact number of hits an article will receive, we will assign 4 performance categories, with P1 being the lowest performing group and P4 being the highest performing group - turning a regression task into a classification task\n",
    "- Later we will try to predict the performance category for each article"
   ]
  },
  {
   "cell_type": "markdown",
   "metadata": {},
   "source": [
    "### 3.1 Examine Distribution"
   ]
  },
  {
   "cell_type": "code",
   "execution_count": 8,
   "metadata": {
    "collapsed": false
   },
   "outputs": [
    {
     "data": {
      "text/plain": [
       "<matplotlib.text.Text at 0x25d9080>"
      ]
     },
     "execution_count": 8,
     "metadata": {},
     "output_type": "execute_result"
    },
    {
     "data": {
      "image/png": "[encoded data removed]",
      "text/plain": [
       "<matplotlib.figure.Figure at 0x66ca630>"
      ]
     },
     "metadata": {},
     "output_type": "display_data"
    }
   ],
   "source": [
    "df['articleId_totalViews_7days'].plot(kind='hist', bins=150)\n",
    "plt.title('Total Views for 7 days')\n",
    "plt.xlabel('Total Article Views (clicks) in 7 days')"
   ]
  },
  {
   "cell_type": "code",
   "execution_count": 9,
   "metadata": {
    "collapsed": false
   },
   "outputs": [
    {
     "data": {
      "text/plain": [
       "count      20535.000000\n",
       "mean       10345.854492\n",
       "std        34507.967560\n",
       "min            3.000000\n",
       "25%          761.000000\n",
       "50%         2322.000000\n",
       "75%         7523.000000\n",
       "max      1091325.000000\n",
       "Name: articleId_totalViews_7days, dtype: float64"
      ]
     },
     "execution_count": 9,
     "metadata": {},
     "output_type": "execute_result"
    }
   ],
   "source": [
    "df.articleId_totalViews_7days.describe()"
   ]
  },
  {
   "cell_type": "markdown",
   "metadata": {},
   "source": [
    "#### Looking at the above:\n",
    "- The data is heavily skewed and a natural/intuitive split is not obvious.\n",
    "- We will take the natural log of our \"total_article_views\" number and re-examine our distribution"
   ]
  },
  {
   "cell_type": "markdown",
   "metadata": {},
   "source": [
    "### 3.2 Log Distribution"
   ]
  },
  {
   "cell_type": "code",
   "execution_count": 10,
   "metadata": {
    "collapsed": false
   },
   "outputs": [],
   "source": [
    "def Loggify(df):\n",
    "    '''Function to take the natural log of various columns\n",
    "    and create new columns with this logged data'''\n",
    "    \n",
    "    df[\"articleId_totalViews_7days_log\"] = df['articleId_totalViews_7days'].apply(np.log)\n",
    "    df['view_15mins_log']=df['view_15mins'].apply(np.log).replace([-np.inf], 0)\n",
    "    df['view_30mins_log']=df['view_30mins'].apply(np.log).replace([-np.inf], 0);\n",
    "    df['view_45mins_log']=df['view_45mins'].apply(np.log).replace([-np.inf], 0);\n",
    "    df['H1_view_log']=df['H1_view'].apply(np.log).replace([-np.inf], 0); \n",
    "    df['articleId_q1_fb_ref_log']=df['articleId_q1_fb_ref'].apply(np.log).replace([-np.inf], 0);\n",
    "    df['articleId_q1_google_ref_log']=df['articleId_q1_google_ref'].apply(np.log).replace([-np.inf], 0);\n",
    "    df['articleId_q1_twitter_ref_log']=df['articleId_q1_twitter_ref'].apply(np.log).replace([-np.inf], 0);\n",
    "    df['articleId_q1_internal_ref_log']=df['articleId_q1_internal_ref'].apply(np.log).replace([-np.inf], 0);\n",
    "    df['articleId_q1_paidFlag_log']=df['articleId_q1_paidFlag'].apply(np.log).replace([-np.inf], 0);\n",
    "    df['articleId_q1_fb_paidPromo_log']=df['articleId_q1_fb_paidPromo'].apply(np.log).replace([-np.inf], 0);\n",
    "    df['articleId_q1_fb_internalFBPagePromo_log']=df['articleId_q1_fb_internalFBPagePromo'].apply(np.log).replace([-np.inf], 0);\n",
    "    df['articleId_q1_fb_organic_log']=df['articleId_q1_fb_organic'].apply(np.log).replace([-np.inf], 0);\n",
    "        \n",
    "    # the following columns may not be present, depending on the input dataset\n",
    "    try: df['H2_view_log']=df['H2_view'].apply(np.log).replace([-np.inf], 0); \n",
    "    except: pass    \n",
    "    try: df['H3_view_log']=df['H3_view'].apply(np.log).replace([-np.inf], 0);\n",
    "    except: pass\n",
    "    try: df['H4_view_log']=df['H4_view'].apply(np.log).replace([-np.inf], 0); \n",
    "    except: pass\n",
    "        \n",
    "    return df"
   ]
  },
  {
   "cell_type": "code",
   "execution_count": 11,
   "metadata": {
    "collapsed": false
   },
   "outputs": [
    {
     "data": {
      "text/html": [
       "<div>\n",
       "<table border=\"1\" class=\"dataframe\">\n",
       "  <thead>\n",
       "    <tr style=\"text-align: right;\">\n",
       "      <th></th>\n",
       "      <th>articleId</th>\n",
       "      <th>articleId_totalViews_7days</th>\n",
       "      <th>date_time_min</th>\n",
       "      <th>age_day_Max</th>\n",
       "      <th>publish_date_min</th>\n",
       "      <th>artk_min_date_in_DB</th>\n",
       "      <th>sumrow_checkcolumn</th>\n",
       "      <th>MAX_article_date_time_mins_index</th>\n",
       "      <th>articleName</th>\n",
       "      <th>subSectionName</th>\n",
       "      <th>...</th>\n",
       "      <th>H1_view_log</th>\n",
       "      <th>articleId_q1_fb_ref_log</th>\n",
       "      <th>articleId_q1_google_ref_log</th>\n",
       "      <th>articleId_q1_twitter_ref_log</th>\n",
       "      <th>articleId_q1_internal_ref_log</th>\n",
       "      <th>articleId_q1_paidFlag_log</th>\n",
       "      <th>articleId_q1_fb_paidPromo_log</th>\n",
       "      <th>articleId_q1_fb_internalFBPagePromo_log</th>\n",
       "      <th>articleId_q1_fb_organic_log</th>\n",
       "      <th>H2_view_log</th>\n",
       "    </tr>\n",
       "  </thead>\n",
       "  <tbody>\n",
       "    <tr>\n",
       "      <th>0</th>\n",
       "      <td>1875985</td>\n",
       "      <td>1091325</td>\n",
       "      <td>2016-09-29 08:34:47.687 UTC</td>\n",
       "      <td>0</td>\n",
       "      <td>2016-09-29</td>\n",
       "      <td>2016-09-29</td>\n",
       "      <td>101</td>\n",
       "      <td>60</td>\n",
       "      <td>miss universe winner who sparked donald trump ...</td>\n",
       "      <td>38</td>\n",
       "      <td>...</td>\n",
       "      <td>4.615121</td>\n",
       "      <td>0</td>\n",
       "      <td>1.386294</td>\n",
       "      <td>0</td>\n",
       "      <td>4.465908</td>\n",
       "      <td>0</td>\n",
       "      <td>0</td>\n",
       "      <td>0</td>\n",
       "      <td>0</td>\n",
       "      <td>4.615121</td>\n",
       "    </tr>\n",
       "  </tbody>\n",
       "</table>\n",
       "<p>1 rows × 54 columns</p>\n",
       "</div>"
      ],
      "text/plain": [
       "   articleId  articleId_totalViews_7days                date_time_min  \\\n",
       "0    1875985                     1091325  2016-09-29 08:34:47.687 UTC   \n",
       "\n",
       "   age_day_Max publish_date_min artk_min_date_in_DB  sumrow_checkcolumn  \\\n",
       "0            0       2016-09-29          2016-09-29                 101   \n",
       "\n",
       "   MAX_article_date_time_mins_index  \\\n",
       "0                                60   \n",
       "\n",
       "                                         articleName  subSectionName  \\\n",
       "0  miss universe winner who sparked donald trump ...              38   \n",
       "\n",
       "      ...       H1_view_log  articleId_q1_fb_ref_log  \\\n",
       "0     ...          4.615121                        0   \n",
       "\n",
       "   articleId_q1_google_ref_log  articleId_q1_twitter_ref_log  \\\n",
       "0                     1.386294                             0   \n",
       "\n",
       "   articleId_q1_internal_ref_log  articleId_q1_paidFlag_log  \\\n",
       "0                       4.465908                          0   \n",
       "\n",
       "   articleId_q1_fb_paidPromo_log  articleId_q1_fb_internalFBPagePromo_log  \\\n",
       "0                              0                                        0   \n",
       "\n",
       "   articleId_q1_fb_organic_log  H2_view_log  \n",
       "0                            0     4.615121  \n",
       "\n",
       "[1 rows x 54 columns]"
      ]
     },
     "execution_count": 11,
     "metadata": {},
     "output_type": "execute_result"
    }
   ],
   "source": [
    "Loggify(df)\n",
    "df.head(1)"
   ]
  },
  {
   "cell_type": "code",
   "execution_count": 12,
   "metadata": {
    "collapsed": false
   },
   "outputs": [
    {
     "data": {
      "text/plain": [
       "<matplotlib.legend.Legend at 0xf915400>"
      ]
     },
     "execution_count": 12,
     "metadata": {},
     "output_type": "execute_result"
    },
    {
     "data": {
      "image/png": "[encoded data removed]",
      "text/plain": [
       "<matplotlib.figure.Figure at 0xedd7b38>"
      ]
     },
     "metadata": {},
     "output_type": "display_data"
    }
   ],
   "source": [
    "import matplotlib.patches as mpatches\n",
    "\n",
    "df['articleId_totalViews_7days_log'].plot(kind='hist', bins=150)\n",
    "plt.title('Total Views for 7 days')\n",
    "plt.xlabel('Log (Total Article Views (clicks) in 7 days)')\n",
    "\n",
    "# draw vertical lines for the chosen performance categories\n",
    "plt.plot([4.76, 4.76 ], [0, 450], 'k-', lw=2) \n",
    "plt.plot([8, 8], [0, 450], 'k-', lw=2)\n",
    "plt.plot([10.57, 10.57 ], [0, 450], 'k-', lw=2)\n",
    "\n",
    "red_patch = mpatches.Patch(color='red', label='P1')\n",
    "green_patch = mpatches.Patch(color='green', label='P4')\n",
    "\n",
    "legendP1 = plt.legend(handles=[red_patch], loc=\"upper left\")\n",
    "\n",
    "plt.legend(handles=[green_patch], loc=\"upper right\")\n",
    "plt.gca().add_artist(legendP1)"
   ]
  },
  {
   "cell_type": "markdown",
   "metadata": {},
   "source": [
    "#### Looking at the above:\n",
    "- This log distribution can be more easily divided into performance categories\n",
    "- The distribution was divided into 4 performance categories - demarked by the vertical black lines\n",
    "    - P1: Lowest Performing\n",
    "    - P2: Mid-Low\n",
    "    - P3: Mid-High\n",
    "    - P4: Highest Performing\n",
    "- The function below assigns a performance category to each article"
   ]
  },
  {
   "cell_type": "markdown",
   "metadata": {},
   "source": [
    "### 3.2 Assign performance labels \n",
    "- Add a \"Performance\" column which will have a value from 1 to 4 for each article"
   ]
  },
  {
   "cell_type": "code",
   "execution_count": 13,
   "metadata": {
    "collapsed": true
   },
   "outputs": [],
   "source": [
    "def P_label_log(df):\n",
    "    '''Function split our data and create an article performance column'''\n",
    "    \n",
    "    df[\"Performance\"] = 0\n",
    "    \n",
    "    df.loc[(df['articleId_totalViews_7days_log'] > 0) & (df['articleId_totalViews_7days_log']\\\n",
    "        <= 4.76), ['Performance']] = 1\n",
    "    df.loc[(df['articleId_totalViews_7days_log'] > 4.76) & (df['articleId_totalViews_7days_log']\\\n",
    "        <= 8), ['Performance']] = 2\n",
    "    df.loc[(df['articleId_totalViews_7days_log'] > 8) & (df['articleId_totalViews_7days_log']\\\n",
    "        <= 10.57), ['Performance']] = 3\n",
    "    df.loc[(df['articleId_totalViews_7days_log'] > 10.57), ['Performance']] = 4\n",
    "    \n",
    "    return df"
   ]
  },
  {
   "cell_type": "code",
   "execution_count": 14,
   "metadata": {
    "collapsed": false
   },
   "outputs": [
    {
     "data": {
      "text/html": [
       "<div>\n",
       "<table border=\"1\" class=\"dataframe\">\n",
       "  <thead>\n",
       "    <tr style=\"text-align: right;\">\n",
       "      <th></th>\n",
       "      <th>articleId</th>\n",
       "      <th>articleId_totalViews_7days</th>\n",
       "      <th>date_time_min</th>\n",
       "      <th>age_day_Max</th>\n",
       "      <th>publish_date_min</th>\n",
       "      <th>artk_min_date_in_DB</th>\n",
       "      <th>sumrow_checkcolumn</th>\n",
       "      <th>MAX_article_date_time_mins_index</th>\n",
       "      <th>articleName</th>\n",
       "      <th>subSectionName</th>\n",
       "      <th>...</th>\n",
       "      <th>articleId_q1_fb_ref_log</th>\n",
       "      <th>articleId_q1_google_ref_log</th>\n",
       "      <th>articleId_q1_twitter_ref_log</th>\n",
       "      <th>articleId_q1_internal_ref_log</th>\n",
       "      <th>articleId_q1_paidFlag_log</th>\n",
       "      <th>articleId_q1_fb_paidPromo_log</th>\n",
       "      <th>articleId_q1_fb_internalFBPagePromo_log</th>\n",
       "      <th>articleId_q1_fb_organic_log</th>\n",
       "      <th>H2_view_log</th>\n",
       "      <th>Performance</th>\n",
       "    </tr>\n",
       "  </thead>\n",
       "  <tbody>\n",
       "    <tr>\n",
       "      <th>0</th>\n",
       "      <td>1875985</td>\n",
       "      <td>1091325</td>\n",
       "      <td>2016-09-29 08:34:47.687 UTC</td>\n",
       "      <td>0</td>\n",
       "      <td>2016-09-29</td>\n",
       "      <td>2016-09-29</td>\n",
       "      <td>101</td>\n",
       "      <td>60</td>\n",
       "      <td>miss universe winner who sparked donald trump ...</td>\n",
       "      <td>38</td>\n",
       "      <td>...</td>\n",
       "      <td>0</td>\n",
       "      <td>1.386294</td>\n",
       "      <td>0</td>\n",
       "      <td>4.465908</td>\n",
       "      <td>0</td>\n",
       "      <td>0</td>\n",
       "      <td>0</td>\n",
       "      <td>0</td>\n",
       "      <td>4.615121</td>\n",
       "      <td>4</td>\n",
       "    </tr>\n",
       "  </tbody>\n",
       "</table>\n",
       "<p>1 rows × 55 columns</p>\n",
       "</div>"
      ],
      "text/plain": [
       "   articleId  articleId_totalViews_7days                date_time_min  \\\n",
       "0    1875985                     1091325  2016-09-29 08:34:47.687 UTC   \n",
       "\n",
       "   age_day_Max publish_date_min artk_min_date_in_DB  sumrow_checkcolumn  \\\n",
       "0            0       2016-09-29          2016-09-29                 101   \n",
       "\n",
       "   MAX_article_date_time_mins_index  \\\n",
       "0                                60   \n",
       "\n",
       "                                         articleName  subSectionName  \\\n",
       "0  miss universe winner who sparked donald trump ...              38   \n",
       "\n",
       "      ...       articleId_q1_fb_ref_log  articleId_q1_google_ref_log  \\\n",
       "0     ...                             0                     1.386294   \n",
       "\n",
       "   articleId_q1_twitter_ref_log  articleId_q1_internal_ref_log  \\\n",
       "0                             0                       4.465908   \n",
       "\n",
       "   articleId_q1_paidFlag_log  articleId_q1_fb_paidPromo_log  \\\n",
       "0                          0                              0   \n",
       "\n",
       "   articleId_q1_fb_internalFBPagePromo_log  articleId_q1_fb_organic_log  \\\n",
       "0                                        0                            0   \n",
       "\n",
       "   H2_view_log  Performance  \n",
       "0     4.615121            4  \n",
       "\n",
       "[1 rows x 55 columns]"
      ]
     },
     "execution_count": 14,
     "metadata": {},
     "output_type": "execute_result"
    }
   ],
   "source": [
    "# Apply the performance column to each article in the dataframe\n",
    "P_label_log(df)\n",
    "\n",
    "df.head(1)"
   ]
  },
  {
   "cell_type": "markdown",
   "metadata": {},
   "source": [
    "### 4.0 Feature lists\n",
    "- We need to create some feature lists, these features will be used by our model to predict the \"Performance\" label\n",
    "- The \"All features\" list will contain all available features\n",
    "- The \"features_hour1\" list will just contain information from the first hour of an article's release"
   ]
  },
  {
   "cell_type": "code",
   "execution_count": 15,
   "metadata": {
    "collapsed": false
   },
   "outputs": [
    {
     "data": {
      "text/plain": [
       "['articleId',\n",
       " 'articleId_totalViews_7days',\n",
       " 'date_time_min',\n",
       " 'age_day_Max',\n",
       " 'publish_date_min',\n",
       " 'artk_min_date_in_DB',\n",
       " 'sumrow_checkcolumn',\n",
       " 'MAX_article_date_time_mins_index',\n",
       " 'articleName',\n",
       " 'subSectionName',\n",
       " 'paidFlag',\n",
       " 'mean_hourOfDay',\n",
       " 'RG_Homepage',\n",
       " 'RG_Article',\n",
       " 'RG_Section',\n",
       " 'RG_Facebook',\n",
       " 'RG_Twitter',\n",
       " 'RG_Google',\n",
       " 'RG_Other_Drudge_Direct',\n",
       " 'S_TVShowBiz',\n",
       " 'S_news',\n",
       " 'S_living',\n",
       " 'S_sport',\n",
       " 'S_other',\n",
       " 'fb_paidPromo',\n",
       " 'fb_internalPromo',\n",
       " 'fb_organic',\n",
       " 'view_15mins',\n",
       " 'view_30mins',\n",
       " 'view_45mins',\n",
       " 'H1_view',\n",
       " 'H2_view',\n",
       " 'articleId_q1_fb_ref',\n",
       " 'articleId_q1_google_ref',\n",
       " 'articleId_q1_twitter_ref',\n",
       " 'articleId_q1_internal_ref',\n",
       " 'articleId_q1_paidFlag',\n",
       " 'articleId_q1_fb_paidPromo',\n",
       " 'articleId_q1_fb_internalFBPagePromo',\n",
       " 'articleId_q1_fb_organic',\n",
       " 'articleId_totalViews_7days_log',\n",
       " 'view_15mins_log',\n",
       " 'view_30mins_log',\n",
       " 'view_45mins_log',\n",
       " 'H1_view_log',\n",
       " 'articleId_q1_fb_ref_log',\n",
       " 'articleId_q1_google_ref_log',\n",
       " 'articleId_q1_twitter_ref_log',\n",
       " 'articleId_q1_internal_ref_log',\n",
       " 'articleId_q1_paidFlag_log',\n",
       " 'articleId_q1_fb_paidPromo_log',\n",
       " 'articleId_q1_fb_internalFBPagePromo_log',\n",
       " 'articleId_q1_fb_organic_log',\n",
       " 'H2_view_log',\n",
       " 'Performance']"
      ]
     },
     "execution_count": 15,
     "metadata": {},
     "output_type": "execute_result"
    }
   ],
   "source": [
    "# create a list with every column just for reference\n",
    "all_features = []\n",
    "\n",
    "for column in df.columns:\n",
    "    all_features.append(column)\n",
    "    \n",
    "all_features    "
   ]
  },
  {
   "cell_type": "code",
   "execution_count": 16,
   "metadata": {
    "collapsed": false
   },
   "outputs": [],
   "source": [
    "# feature list which uses data that has been aggregrated over 1hr\n",
    "features_hour1 =[\n",
    " 'paidFlag',\n",
    " 'subSectionName',   \n",
    " 'mean_hourOfDay',\n",
    " 'RG_Homepage',\n",
    " 'RG_Article',\n",
    " 'RG_Section',\n",
    " 'RG_Facebook',\n",
    " 'RG_Twitter',\n",
    " 'RG_Google',\n",
    " 'RG_Other_Drudge_Direct',\n",
    " 'S_TVShowBiz',\n",
    " 'S_news',\n",
    " 'S_living',\n",
    " 'S_sport',\n",
    " 'S_other',\n",
    " 'fb_paidPromo',\n",
    " 'fb_internalPromo',\n",
    " 'fb_organic',\n",
    " 'view_15mins',\n",
    " 'view_30mins',\n",
    " 'view_45mins',\n",
    " 'H1_view',\n",
    " 'articleId_q1_fb_ref',\n",
    " 'articleId_q1_google_ref',\n",
    " 'articleId_q1_twitter_ref',\n",
    " 'articleId_q1_internal_ref',\n",
    " 'articleId_q1_paidFlag',\n",
    " 'articleId_q1_fb_paidPromo',\n",
    " 'articleId_q1_fb_internalFBPagePromo',\n",
    " 'articleId_q1_fb_organic'\n",
    "]"
   ]
  },
  {
   "cell_type": "markdown",
   "metadata": {},
   "source": [
    "### 5.0 Modelling\n",
    "- Now down to the prediction of article performance\n",
    "- GradientBoostingClassifier used after extensive testing of others - see Appendix B\n",
    "- Extensive model parameter optimization performed - see Appendix C\n",
    "- f1_score = 2 * (precision X recall) / (precision + recall)"
   ]
  },
  {
   "cell_type": "code",
   "execution_count": 17,
   "metadata": {
    "collapsed": false
   },
   "outputs": [],
   "source": [
    "from sklearn.metrics import classification_report, f1_score, confusion_matrix\n",
    "from sklearn.model_selection import train_test_split\n",
    "from sklearn.ensemble import GradientBoostingClassifier\n",
    "from sklearn.preprocessing import MinMaxScaler"
   ]
  },
  {
   "cell_type": "code",
   "execution_count": 18,
   "metadata": {
    "collapsed": true
   },
   "outputs": [],
   "source": [
    "def GBC_score_hyper(df, features, target):\n",
    "    '''Function to output a detailed accuracy report using\n",
    "    a Gradient Boosting Classifier with selected hyper-parameters'''\n",
    "    \n",
    "    # split our data into train and test split, can set random_state=1 so we can repeat analysis\n",
    "    train, test = train_test_split(df, test_size=0.3) \n",
    "           \n",
    "    # assign our features and target variables\n",
    "    X_test = test[features]\n",
    "    y_test = test[target]    \n",
    "    X_train = train[features]\n",
    "    y_train = train[target]\n",
    "    \n",
    "    # scale the features\n",
    "    min_max_scaler = MinMaxScaler()\n",
    "    X_train = min_max_scaler.fit_transform(X_train) \n",
    "    X_test = min_max_scaler.transform(X_test)\n",
    "    \n",
    "    # create classifier with chosen hyper-parameters\n",
    "    clf = GradientBoostingClassifier(min_samples_split=8, n_estimators=130,\\\n",
    "                                     max_depth=3,min_samples_leaf=1)\n",
    "\n",
    "    clf.fit(X_train, y_train)\n",
    "    \n",
    "    y_pred = clf.predict(X_test)\n",
    "    \n",
    "    y_true = y_test\n",
    "        \n",
    "    #get an accuracy score\n",
    "    score = clf.score(X_test, y_test)\n",
    "    \n",
    "    f1_accuracy = f1_score(y_true, y_pred, average=None)\n",
    "    \n",
    "    print \"accuracy_score: %.3f%%\\n\" %score  \n",
    "    print classification_report(y_true, y_pred), \"\\n\\n\""
   ]
  },
  {
   "cell_type": "markdown",
   "metadata": {},
   "source": [
    "### 5.1 Accuracy using first hour of data only"
   ]
  },
  {
   "cell_type": "code",
   "execution_count": 19,
   "metadata": {
    "collapsed": false
   },
   "outputs": [
    {
     "name": "stdout",
     "output_type": "stream",
     "text": [
      "GBC\n",
      "Target = Performance\n",
      "All Features\n",
      "\n",
      "accuracy_score: 0.743%\n",
      "\n",
      "             precision    recall  f1-score   support\n",
      "\n",
      "          1       0.71      0.66      0.68       295\n",
      "          2       0.76      0.84      0.80      3152\n",
      "          3       0.73      0.68      0.70      2385\n",
      "          4       0.75      0.32      0.45       329\n",
      "\n",
      "avg / total       0.74      0.74      0.74      6161\n",
      "\n",
      "\n",
      "\n",
      "None \n",
      "\n",
      "\n",
      "Wall time: 11.1 s\n"
     ]
    }
   ],
   "source": [
    "%%time\n",
    "print \"GBC\\nTarget = Performance\\n\",\"All Features\\n\\n\",\\\n",
    "    GBC_score_hyper(df, features_hour1, \"Performance\"), \"\\n\\n\"   "
   ]
  },
  {
   "cell_type": "markdown",
   "metadata": {},
   "source": [
    "#### Looking at the above:\n",
    "- An overall accuracy score of 74% was achieved\n",
    "- An average f1-score 0.73 across all four performance categories\n",
    "- Despite comprising just 8% of the entire dataset, P4 (best performing) articles were predicted with ~45% accuracy\n",
    "- All predictions were obtained using just 1hr of data (first hour since article release)"
   ]
  },
  {
   "cell_type": "markdown",
   "metadata": {},
   "source": [
    "### 5.2 GBC Confusion Plots\n",
    "- Let's look at some confusion plots"
   ]
  },
  {
   "cell_type": "code",
   "execution_count": 20,
   "metadata": {
    "collapsed": true
   },
   "outputs": [],
   "source": [
    "def GBC_confusion_plot(df, features, target, normalize=False):\n",
    "    '''Function to plot a confusion matrix'''\n",
    "    \n",
    "    # split our data into train and test split, set random_state=1 so we can repeat analysis\n",
    "    train, test = train_test_split(df, test_size=0.3) \n",
    "           \n",
    "    # assign our features and target variables\n",
    "    X_test = test[features]\n",
    "    y_test = test[target]    \n",
    "    X_train = train[features]\n",
    "    y_train = train[target]\n",
    "    \n",
    "     # scale the features\n",
    "    min_max_scaler = MinMaxScaler()\n",
    "    X_train = min_max_scaler.fit_transform(X_train) \n",
    "    X_test = min_max_scaler.transform(X_test) \n",
    "        \n",
    "    # MODEL\n",
    "    clf = GradientBoostingClassifier(min_samples_split=2, n_estimators=100,\\\n",
    "                                     max_depth=3,min_samples_leaf=7)\n",
    "\n",
    "    clf.fit(X_train, y_train)\n",
    "        \n",
    "    # obtain the predicitons to compare with the acutal label eg. \"performance\"\n",
    "    y_pred = clf.predict(X_test)\n",
    "    y_true = y_test\n",
    "    \n",
    "    cm = confusion_matrix(y_true, y_pred)\n",
    "    classes=[1,2,3,4]\n",
    "    title='Confusion matrix, without normalization'\n",
    "    cmap=plt.cm.Blues\n",
    "        \n",
    "    plt.imshow(cm, interpolation='nearest', cmap=cmap)\n",
    "    plt.title(title)\n",
    "    plt.colorbar()\n",
    "    tick_marks = np.arange(len(classes))\n",
    "    plt.xticks(tick_marks, classes, rotation=45)\n",
    "    plt.yticks(tick_marks, classes)\n",
    "\n",
    "    if normalize:\n",
    "        cm = cm.astype('float') / cm.sum(axis=1)[:, np.newaxis]\n",
    "        print(\"Normalized confusion matrix\")\n",
    "    else:\n",
    "        print('Confusion matrix, without normalization')\n",
    "\n",
    "    print(cm)\n",
    "    \n",
    "    import itertools\n",
    "\n",
    "    thresh = cm.max() / 2.\n",
    "    for i, j in itertools.product(range(cm.shape[0]), range(cm.shape[1])):\n",
    "        plt.text(j, i, cm[i, j],\n",
    "                 horizontalalignment=\"center\",\n",
    "                 color=\"white\" if cm[i, j] > thresh else \"black\")\n",
    "\n",
    "    plt.ylabel('True label')\n",
    "    plt.xlabel('Predicted label')\n",
    "    plt.title(\"Confusion Matrix\")\n",
    "    plt.show()\n",
    "    #plt.savefig('confusion_matrix.png', format='png')"
   ]
  },
  {
   "cell_type": "code",
   "execution_count": 21,
   "metadata": {
    "collapsed": false
   },
   "outputs": [
    {
     "name": "stdout",
     "output_type": "stream",
     "text": [
      "1hour old feature set\n",
      "Confusion matrix, without normalization\n",
      "[[ 212  117    0    0]\n",
      " [  60 2583  433    0]\n",
      " [   3  766 1652   29]\n",
      " [   0   30  185   91]]\n"
     ]
    },
    {
     "data": {
      "image/png": "[encoded data removed]",
      "text/plain": [
       "<matplotlib.figure.Figure at 0xf9a3c50>"
      ]
     },
     "metadata": {},
     "output_type": "display_data"
    }
   ],
   "source": [
    "print \"1hour old feature set\"\n",
    "\n",
    "GBC_confusion_plot(df, features_hour1, \"Performance\")"
   ]
  },
  {
   "cell_type": "markdown",
   "metadata": {},
   "source": [
    "#### Looking at the above:\n",
    "- Although there are no instances of a P4 article being mistaken for a P1 article (or vice-versa), we do encounter some difficulty when trying to distinguish a P3 article from a P4"
   ]
  },
  {
   "cell_type": "markdown",
   "metadata": {},
   "source": [
    "### 5.3 GBC feature importances\n",
    "- Let's look at what's driving our predictive power"
   ]
  },
  {
   "cell_type": "code",
   "execution_count": 22,
   "metadata": {
    "collapsed": true
   },
   "outputs": [],
   "source": [
    "def GBC_coef(df, features, target):\n",
    "    '''Function to extract the feature importances after fitting the data'''\n",
    "    \n",
    "    # split our data into train and test split, can set random_state=1 if repeat analysis desired\n",
    "    train, test = train_test_split(df, test_size=0.3) \n",
    "           \n",
    "    # assign our features and target variables\n",
    "    X_test = test[features]\n",
    "    y_test = test[target]    \n",
    "    X_train = train[features]\n",
    "    y_train = train[target]\n",
    "    \n",
    "    # scale the features\n",
    "    min_max_scaler = MinMaxScaler()\n",
    "    X_train = min_max_scaler.fit_transform(X_train) \n",
    "    X_test = min_max_scaler.transform(X_test)\n",
    "    \n",
    "    clf = GradientBoostingClassifier(min_samples_split=2, n_estimators=100, max_depth=3, min_samples_leaf=7)\n",
    "\n",
    "    clf.fit(X_train, y_train)\n",
    "        \n",
    "    #get an accuracy score\n",
    "    score = clf.score(X_test, y_test)\n",
    "    \n",
    "    # get the feature coefficients\n",
    "    feature_importance = clf.feature_importances_\n",
    "    \n",
    "    # create a dictionary to then print a sorted list of coefficients\n",
    "    feature_dict = {}\n",
    "        \n",
    "    for k,v in sorted(zip(features, feature_importance)):\n",
    "        feature_dict[k]=v\n",
    "    \n",
    "    import operator\n",
    "    sorted_dict = sorted(feature_dict.items(), reverse=True, key=operator.itemgetter(1))   \n",
    "    \n",
    "    print \"accuracy_score: %.3f%%\\n\" %score\n",
    "    for k,v in sorted_dict:\n",
    "        print k,v"
   ]
  },
  {
   "cell_type": "code",
   "execution_count": 23,
   "metadata": {
    "collapsed": false
   },
   "outputs": [
    {
     "name": "stdout",
     "output_type": "stream",
     "text": [
      "accuracy_score: 0.748%\n",
      "\n",
      "H1_view 0.196432992951\n",
      "articleId_q1_internal_ref 0.156240800743\n",
      "mean_hourOfDay 0.145912061366\n",
      "view_45mins 0.0620226133989\n",
      "view_15mins 0.0473804329224\n",
      "view_30mins 0.0462844461875\n",
      "subSectionName 0.0439924392222\n",
      "RG_Article 0.0437968628302\n",
      "RG_Homepage 0.0369541618882\n",
      "S_TVShowBiz 0.035517590477\n",
      "S_living 0.0264431057911\n",
      "articleId_q1_google_ref 0.0240685912913\n",
      "fb_internalPromo 0.0227448583406\n",
      "articleId_q1_twitter_ref 0.020067213043\n",
      "S_sport 0.0149800380431\n",
      "RG_Twitter 0.0138960781513\n",
      "RG_Google 0.0127152779509\n",
      "S_other 0.00953968149005\n",
      "articleId_q1_fb_internalFBPagePromo 0.0090846589691\n",
      "RG_Facebook 0.00709413532401\n",
      "articleId_q1_fb_organic 0.00617572595065\n",
      "S_news 0.0057430782748\n",
      "articleId_q1_fb_ref 0.00496343957013\n",
      "fb_organic 0.00413422935189\n",
      "RG_Other_Drudge_Direct 0.0038154864718\n",
      "paidFlag 0.0\n",
      "articleId_q1_fb_paidPromo 0.0\n",
      "fb_paidPromo 0.0\n",
      "articleId_q1_paidFlag 0.0\n",
      "RG_Section 0.0\n"
     ]
    }
   ],
   "source": [
    "GBC_coef(df, features_hour1, \"Performance\")"
   ]
  },
  {
   "cell_type": "markdown",
   "metadata": {},
   "source": [
    "#### Looking at the above:\n",
    "- As expected the number of views an article receives in the first hour is the most valuable predictor\n",
    "- The \"mean_hourOfDay\" the article is accessed is also a big driver - warrants more investigation - can we identify commuter driven traffic\n",
    "- The various referrel sources and promotional tags also influence the prediction outcome"
   ]
  },
  {
   "cell_type": "markdown",
   "metadata": {},
   "source": [
    "### 6.0 Conclusions and Suggestions\n",
    "\n",
    "- Prediction of article performance using just 1hr of data is possible\n",
    "\n",
    "- The best model gave an overall accuracy score of 74% and and average f1-score 0.73 across all four performance categories (1 hour of data)\n",
    "\n",
    "- Despite comprising just 8% of the entire dataset, best performing articles are predicted with over 40% accuracy\n",
    "\n",
    "- The newspaper source involved will soon benefit from the addition of greater detail to their online data - the addition of these features will likely lead to an improvement in the performance of future models\n",
    "\n",
    "- Future projects may aim to integrate these extra features and then aim to delve deep into the important features in order to extract insights\n",
    "\n",
    "- Of particular interest to the online newspaper is how to convert infrequent or “dormant” visitors into regular visitors. Future analysis could aim to include more extensive user information during modelling"
   ]
  },
  {
   "cell_type": "markdown",
   "metadata": {},
   "source": [
    "### Appendix A - All features vs. One feature\n",
    "- We will compare results obtained when:\n",
    "    - using a multitude of features from the first hour\n",
    "    - using just the total number of hits/clicks received in the first hour"
   ]
  },
  {
   "cell_type": "code",
   "execution_count": 24,
   "metadata": {
    "collapsed": false
   },
   "outputs": [
    {
     "name": "stdout",
     "output_type": "stream",
     "text": [
      "Model = GBC\n",
      "Target = Performance\n",
      "Features = All features from first hour\n",
      "\n",
      "accuracy_score: 0.740%\n",
      "\n",
      "             precision    recall  f1-score   support\n",
      "\n",
      "          1       0.74      0.69      0.71       307\n",
      "          2       0.76      0.83      0.79      3183\n",
      "          3       0.71      0.67      0.69      2371\n",
      "          4       0.76      0.32      0.45       300\n",
      "\n",
      "avg / total       0.74      0.74      0.73      6161\n",
      "\n",
      "\n",
      "\n",
      "None \n",
      "\n",
      "\n",
      "Model = GBC\n",
      "Target = Performance\n",
      "Features = Just views in first hour\n",
      "\n",
      "accuracy_score: 0.682%\n",
      "\n",
      "             precision    recall  f1-score   support\n",
      "\n",
      "          1       0.63      0.41      0.49       301\n",
      "          2       0.70      0.80      0.75      3108\n",
      "          3       0.67      0.63      0.65      2438\n",
      "          4       0.60      0.15      0.24       314\n",
      "\n",
      "avg / total       0.68      0.68      0.67      6161\n",
      "\n",
      "\n",
      "\n",
      "None \n",
      "\n",
      "\n"
     ]
    }
   ],
   "source": [
    "features_views_H1 =['H1_view']\n",
    "\n",
    "print \"Model = GBC\\nTarget = Performance\\n\",\"Features = All features from first hour\\n\\n\",\\\n",
    "    GBC_score_hyper(df, features_hour1, \"Performance\"), \"\\n\\n\"   \n",
    "    \n",
    "print \"Model = GBC\\nTarget = Performance\\n\",\"Features = Just views in first hour\\n\\n\",\\\n",
    "    GBC_score_hyper(df, features_views_H1, \"Performance\"), \"\\n\\n\"       "
   ]
  },
  {
   "cell_type": "markdown",
   "metadata": {},
   "source": [
    "#### Looking at the above:\n",
    "- Our f1-accuracy scores are significantly increased with the addition of the extra features"
   ]
  },
  {
   "cell_type": "markdown",
   "metadata": {},
   "source": [
    "### Appendix B - Model Cycle\n",
    "- Test a number of different models and compare accuracy scores"
   ]
  },
  {
   "cell_type": "code",
   "execution_count": 25,
   "metadata": {
    "collapsed": true
   },
   "outputs": [],
   "source": [
    "from sklearn.tree import DecisionTreeClassifier\n",
    "from sklearn.ensemble import RandomForestClassifier, AdaBoostClassifier\n",
    "from sklearn.naive_bayes import GaussianNB\n",
    "from sklearn.discriminant_analysis import QuadraticDiscriminantAnalysis\n",
    "from sklearn.linear_model import LogisticRegression\n",
    "from sklearn.neural_network import MLPClassifier\n",
    "from sklearn.neighbors import KNeighborsClassifier"
   ]
  },
  {
   "cell_type": "code",
   "execution_count": 26,
   "metadata": {
    "collapsed": true
   },
   "outputs": [],
   "source": [
    "def model_cycle(df, features, target):\n",
    "    '''Function to quickly cycle through multiple models & get accuracy scores\n",
    "    Default parameters are used'''\n",
    "    \n",
    "    # split our data into train and test split, set random_state=1 so we can repeat analysis\n",
    "    train, test = train_test_split(df, test_size=0.3, random_state=1) \n",
    "           \n",
    "    # assign our features and target variables\n",
    "    X_test = test[features]\n",
    "    y_test = test[target]    \n",
    "    X_train = train[features]\n",
    "    y_train = train[target]\n",
    "    \n",
    "    # scale the features\n",
    "    min_max_scaler = MinMaxScaler()\n",
    "    X_test = min_max_scaler.fit_transform(X_test) \n",
    "    X_train = min_max_scaler.fit_transform(X_train)\n",
    "    \n",
    "    # LINE UP SOME MODELS\n",
    "    names = [\"Logistic Regression\", \"Nearest Neighbors\",\"Decision Tree\",\\\n",
    "             \"Random Forest\", \"Neural Net\", \"AdaBoost\", \"Naive Bayes\", \"QDA\", \"GBC\"]\n",
    "\n",
    "    classifiers = [\n",
    "    LogisticRegression(),    \n",
    "    KNeighborsClassifier(),\n",
    "    DecisionTreeClassifier(),\n",
    "    RandomForestClassifier(),\n",
    "    MLPClassifier(),\n",
    "    AdaBoostClassifier(),\n",
    "    GaussianNB(),\n",
    "    QuadraticDiscriminantAnalysis(),\n",
    "    GradientBoostingClassifier()    \n",
    "        ]\n",
    "  \n",
    "    # iterate over classifiers and print the score\n",
    "    for name, clf in zip(names, classifiers):\n",
    "        \n",
    "        # fit the model to the training data\n",
    "        clf.fit(X_train, y_train)\n",
    "        \n",
    "        #get an accuracy score\n",
    "        score = clf.score(X_test, y_test)\n",
    "    \n",
    "        y_pred = clf.predict(X_test)\n",
    "    \n",
    "        y_true = y_test\n",
    "    \n",
    "        f1_accuracy = f1_score(y_true, y_pred, average=None)\n",
    "    \n",
    "        #print that score as a percentage\n",
    "        print name,\"accuracy_score: %.3f%%\\n\" %score   \n",
    "        print classification_report(y_true, y_pred), \"\\n\\n\""
   ]
  },
  {
   "cell_type": "code",
   "execution_count": 27,
   "metadata": {
    "collapsed": false
   },
   "outputs": [
    {
     "name": "stdout",
     "output_type": "stream",
     "text": [
      "Logistic Regression accuracy_score: 0.634%\n",
      "\n",
      "             precision    recall  f1-score   support\n",
      "\n",
      "          1       0.55      0.12      0.19       308\n",
      "          2       0.63      0.84      0.72      3088\n",
      "          3       0.64      0.49      0.56      2442\n",
      "          4       0.81      0.18      0.29       323\n",
      "\n",
      "avg / total       0.64      0.63      0.61      6161\n",
      "\n",
      "\n",
      "\n",
      "Nearest Neighbors accuracy_score: 0.606%\n",
      "\n",
      "             precision    recall  f1-score   support\n",
      "\n",
      "          1       0.55      0.54      0.54       308\n",
      "          2       0.63      0.72      0.67      3088\n",
      "          3       0.57      0.52      0.55      2442\n",
      "          4       0.66      0.17      0.27       323\n",
      "\n",
      "avg / total       0.60      0.61      0.60      6161\n",
      "\n",
      "\n",
      "\n",
      "Decision Tree accuracy_score: 0.584%\n",
      "\n",
      "             precision    recall  f1-score   support\n",
      "\n",
      "          1       0.49      0.64      0.55       308\n",
      "          2       0.67      0.67      0.67      3088\n",
      "          3       0.58      0.48      0.53      2442\n",
      "          4       0.23      0.43      0.30       323\n",
      "\n",
      "avg / total       0.60      0.58      0.59      6161\n",
      "\n",
      "\n",
      "\n",
      "Random Forest accuracy_score: 0.688%\n",
      "\n",
      "             precision    recall  f1-score   support\n",
      "\n",
      "          1       0.55      0.77      0.64       308\n",
      "          2       0.70      0.80      0.75      3088\n",
      "          3       0.70      0.60      0.64      2442\n",
      "          4       0.60      0.24      0.34       323\n",
      "\n",
      "avg / total       0.69      0.69      0.68      6161\n",
      "\n",
      "\n",
      "\n",
      "Neural Net accuracy_score: 0.708%\n",
      "\n",
      "             precision    recall  f1-score   support\n",
      "\n",
      "          1       0.65      0.53      0.58       308\n",
      "          2       0.72      0.82      0.77      3088\n",
      "          3       0.70      0.64      0.67      2442\n",
      "          4       0.63      0.31      0.41       323\n",
      "\n",
      "avg / total       0.70      0.71      0.70      6161\n",
      "\n",
      "\n",
      "\n",
      "AdaBoost accuracy_score: 0.651%\n",
      "\n",
      "             precision    recall  f1-score   support\n",
      "\n",
      "          1       0.49      0.81      0.61       308\n",
      "          2       0.66      0.81      0.73      3088\n",
      "          3       0.68      0.52      0.59      2442\n",
      "          4       0.18      0.02      0.03       323\n",
      "\n",
      "avg / total       0.64      0.65      0.63      6161\n",
      "\n",
      "\n",
      "\n",
      "Naive Bayes accuracy_score: 0.422%\n",
      "\n",
      "             precision    recall  f1-score   support\n",
      "\n",
      "          1       0.16      0.97      0.27       308\n",
      "          2       0.49      0.52      0.51      3088\n",
      "          3       0.72      0.25      0.37      2442\n",
      "          4       0.47      0.28      0.35       323\n",
      "\n",
      "avg / total       0.57      0.42      0.43      6161\n",
      "\n",
      "\n",
      "\n",
      "QDA accuracy_score: 0.369%\n",
      "\n",
      "             precision    recall  f1-score   support\n",
      "\n",
      "          1       0.16      0.97      0.27       308\n",
      "          2       0.43      0.53      0.48      3088\n",
      "          3       0.73      0.13      0.23      2442\n",
      "          4       0.57      0.02      0.05       323\n",
      "\n",
      "avg / total       0.54      0.37      0.35      6161\n",
      "\n",
      "\n",
      "\n",
      "GBC accuracy_score: 0.723%\n",
      "\n",
      "             precision    recall  f1-score   support\n",
      "\n",
      "          1       0.63      0.81      0.70       308\n",
      "          2       0.73      0.84      0.78      3088\n",
      "          3       0.74      0.62      0.68      2442\n",
      "          4       0.66      0.31      0.42       323\n",
      "\n",
      "avg / total       0.72      0.72      0.72      6161\n",
      "\n",
      "\n",
      "\n"
     ]
    },
    {
     "name": "stderr",
     "output_type": "stream",
     "text": [
      "C:\\Users\\James\\Anaconda2\\lib\\site-packages\\sklearn\\discriminant_analysis.py:694: UserWarning: Variables are collinear\n",
      "  warnings.warn(\"Variables are collinear\")\n"
     ]
    }
   ],
   "source": [
    "model_cycle(df, features_hour1, \"Performance\")"
   ]
  },
  {
   "cell_type": "markdown",
   "metadata": {},
   "source": [
    "#### Looking at the above:\n",
    "- We used default parameters but the GBC classifier is a clear favourite"
   ]
  },
  {
   "cell_type": "markdown",
   "metadata": {},
   "source": [
    "### Appendix C - GBC parameter selection\n",
    "- Test hyper-parameter selection for a GradientBoostingClassifier\n",
    "- First use a randomized approach to zero-in on appropriate parameters (cross-val-fold=5)\n",
    "- Then use and exhaustive GridSearchCV approach to finalise selection (cross-val-fold=10)"
   ]
  },
  {
   "cell_type": "code",
   "execution_count": 28,
   "metadata": {
    "collapsed": true
   },
   "outputs": [],
   "source": [
    "from scipy.stats import randint as sp_randint"
   ]
  },
  {
   "cell_type": "code",
   "execution_count": 29,
   "metadata": {
    "collapsed": true
   },
   "outputs": [],
   "source": [
    "def RandomSearchCV(df, features, target, clf, param_grid, n_iter, cv):\n",
    "    \"\"\"Test parameters using GridSearchCV and 10-fold cross-validation\"\"\"\n",
    "    \n",
    "    from sklearn.model_selection import RandomizedSearchCV\n",
    "    \n",
    "    # split our data into train and test split, set random_state=1 so we can repeat analysis\n",
    "    train, test = train_test_split(df, test_size=0.3, random_state=1) \n",
    "           \n",
    "    # assign our features and target variables\n",
    "    X_test = test[features]\n",
    "    y_test = test[target]    \n",
    "    X_train = train[features]\n",
    "    y_train = train[target]\n",
    "    \n",
    "    #scale the features\n",
    "    min_max_scaler = MinMaxScaler()\n",
    "    X_train = min_max_scaler.fit_transform(X_train) \n",
    "    X_test = min_max_scaler.transform(X_test) \n",
    "\n",
    "    \n",
    "    scores = ['precision', 'recall']\n",
    "\n",
    "    for score in scores:\n",
    "        print \"# Tuning hyper-parameters for %s\" % score\n",
    "        \n",
    "        # run randomized search\n",
    "        \n",
    "        random_search = RandomizedSearchCV(clf, param_distributions=param_grid,\n",
    "                                   n_iter=n_iter, cv=cv)\n",
    "        \n",
    "        random_search.fit(X_train, y_train)\n",
    "\n",
    "        print \"Best Accuracy: %.3f%%\" % random_search.best_score_\n",
    "        print \"Best parameters set found on development set:\"\n",
    "        print  \n",
    "        print random_search.best_params_\n",
    "     \n",
    "        y_true, y_pred = y_test, random_search.predict(X_test)\n",
    "        print \"Detailed classification report:\"\n",
    "        print \"\"\n",
    "        print \"The model is trained on the full development set.\"\n",
    "        print \"The scores are computed on the full evaluation set.\"\n",
    "        print \"\"\n",
    "        print classification_report(y_true, y_pred), \"\\n\\n\""
   ]
  },
  {
   "cell_type": "code",
   "execution_count": 30,
   "metadata": {
    "collapsed": false
   },
   "outputs": [],
   "source": [
    "# define the parameter values that should be searched set of parameters to test\n",
    "\n",
    "# range of parameter values if using RandomSearchCV\n",
    "gbc_rand_param_grid = {\"n_estimators\": sp_randint(100, 160),\n",
    "              \"max_depth\": [3, None],\n",
    "              \"min_samples_split\": sp_randint(1, 11),\n",
    "              \"min_samples_leaf\": sp_randint(1, 11)}                     \n",
    "\n",
    "gbc = GradientBoostingClassifier()"
   ]
  },
  {
   "cell_type": "code",
   "execution_count": 32,
   "metadata": {
    "collapsed": false
   },
   "outputs": [
    {
     "name": "stdout",
     "output_type": "stream",
     "text": [
      "# Tuning hyper-parameters for precision\n",
      "Best Accuracy: 0.744%\n",
      "Best parameters set found on development set:\n",
      "\n",
      "{'min_samples_split': 6, 'n_estimators': 135, 'max_depth': 3, 'min_samples_leaf': 8}\n",
      "Detailed classification report:\n",
      "\n",
      "The model is trained on the full development set.\n",
      "The scores are computed on the full evaluation set.\n",
      "\n",
      "             precision    recall  f1-score   support\n",
      "\n",
      "          1       0.75      0.70      0.73       308\n",
      "          2       0.75      0.83      0.79      3088\n",
      "          3       0.72      0.68      0.70      2442\n",
      "          4       0.73      0.28      0.40       323\n",
      "\n",
      "avg / total       0.74      0.74      0.73      6161\n",
      "\n",
      "\n",
      "\n",
      "# Tuning hyper-parameters for recall\n",
      "Best Accuracy: 0.746%\n",
      "Best parameters set found on development set:\n",
      "\n",
      "{'min_samples_split': 5, 'n_estimators': 147, 'max_depth': 3, 'min_samples_leaf': 10}\n",
      "Detailed classification report:\n",
      "\n",
      "The model is trained on the full development set.\n",
      "The scores are computed on the full evaluation set.\n",
      "\n",
      "             precision    recall  f1-score   support\n",
      "\n",
      "          1       0.74      0.70      0.72       308\n",
      "          2       0.75      0.83      0.79      3088\n",
      "          3       0.72      0.69      0.70      2442\n",
      "          4       0.75      0.28      0.41       323\n",
      "\n",
      "avg / total       0.74      0.74      0.73      6161\n",
      "\n",
      "\n",
      "\n",
      "Wall time: 1h 42min 2s\n"
     ]
    }
   ],
   "source": [
    "%%time\n",
    "RandomSearchCV(df, features_hour1, \"Performance\", gbc, gbc_rand_param_grid, 7, 5)"
   ]
  },
  {
   "cell_type": "code",
   "execution_count": 33,
   "metadata": {
    "collapsed": true
   },
   "outputs": [],
   "source": [
    "def GridSearchCV(df, features, target, classifier, param_grid):\n",
    "    \"\"\"Test parameters using GridSearchCV and 10-fold cross-validation\"\"\"\n",
    "    \n",
    "    from sklearn.model_selection import GridSearchCV\n",
    "    \n",
    "    # split our data into train and test split, set random_state=1 so we can repeat analysis\n",
    "    train, test = train_test_split(df, test_size=0.3, random_state=1) \n",
    "           \n",
    "    # assign our features and target variables\n",
    "    X_test = test[features]\n",
    "    y_test = test[target]    \n",
    "    X_train = train[features]\n",
    "    y_train = train[target]\n",
    "    \n",
    "    #scale the features\n",
    "    min_max_scaler = MinMaxScaler()\n",
    "    X_train = min_max_scaler.fit_transform(X_train) \n",
    "    X_test = min_max_scaler.transform(X_test) \n",
    "\n",
    "    # Set the parameters by cross-validation\n",
    "    param_grid = param_grid\n",
    "    \n",
    "    scores = ['precision', 'recall']\n",
    "\n",
    "    for score in scores:\n",
    "        print \"# Tuning hyper-parameters for %s\" % score\n",
    "        \n",
    "        clf = GridSearchCV(classifier, param_grid, cv=10,\n",
    "                       scoring='%s_macro' % score)\n",
    "        clf.fit(X_train, y_train)\n",
    "\n",
    "        print \"Best Accuracy: %.3f%%\" % clf.best_score_\n",
    "        print \"Best parameters set found on development set:\"\n",
    "        print  \n",
    "        print clf.best_params_\n",
    "     \n",
    "        y_true, y_pred = y_test, clf.predict(X_test)\n",
    "        print \"Detailed classification report:\"\n",
    "        print \"\"\n",
    "        print \"The model is trained on the full development set.\"\n",
    "        print \"The scores are computed on the full evaluation set.\"\n",
    "        print \"\"\n",
    "        print classification_report(y_true, y_pred), \"\\n\\n\""
   ]
  },
  {
   "cell_type": "code",
   "execution_count": 34,
   "metadata": {
    "collapsed": true
   },
   "outputs": [],
   "source": [
    "# specific parameter values if using GridSearchCV\n",
    "gbc_grid_param_grid = {\"n_estimators\": [130, 150],\n",
    "                    \"min_samples_leaf\": [8, 10]\n",
    "                        }"
   ]
  },
  {
   "cell_type": "code",
   "execution_count": 36,
   "metadata": {
    "collapsed": false
   },
   "outputs": [
    {
     "name": "stdout",
     "output_type": "stream",
     "text": [
      "# Tuning hyper-parameters for precision\n",
      "Best Accuracy: 0.738%\n",
      "Best parameters set found on development set:\n",
      "\n",
      "{'n_estimators': 130, 'min_samples_leaf': 10}\n",
      "Detailed classification report:\n",
      "\n",
      "The model is trained on the full development set.\n",
      "The scores are computed on the full evaluation set.\n",
      "\n",
      "             precision    recall  f1-score   support\n",
      "\n",
      "          1       0.74      0.70      0.72       308\n",
      "          2       0.75      0.83      0.79      3088\n",
      "          3       0.72      0.68      0.70      2442\n",
      "          4       0.73      0.28      0.40       323\n",
      "\n",
      "avg / total       0.73      0.74      0.73      6161\n",
      "\n",
      "\n",
      "\n",
      "# Tuning hyper-parameters for recall\n",
      "Best Accuracy: 0.627%\n",
      "Best parameters set found on development set:\n",
      "\n",
      "{'n_estimators': 150, 'min_samples_leaf': 8}\n",
      "Detailed classification report:\n",
      "\n",
      "The model is trained on the full development set.\n",
      "The scores are computed on the full evaluation set.\n",
      "\n",
      "             precision    recall  f1-score   support\n",
      "\n",
      "          1       0.76      0.69      0.72       308\n",
      "          2       0.75      0.83      0.79      3088\n",
      "          3       0.72      0.69      0.70      2442\n",
      "          4       0.74      0.28      0.40       323\n",
      "\n",
      "avg / total       0.74      0.74      0.73      6161\n",
      "\n",
      "\n",
      "\n",
      "Wall time: 15min 28s\n"
     ]
    }
   ],
   "source": [
    "%%time\n",
    "GridSearchCV(df, features_hour1, \"Performance\", gbc, gbc_grid_param_grid)"
   ]
  },
  {
   "cell_type": "markdown",
   "metadata": {},
   "source": [
    "### Appendix C - What happens to accuracy as we increase the input data timespan\n",
    "- What happens to our prediction performance as we include more data?\n",
    "- The graph below displays the model performance as a function of the time-period of data used to model. For instance the first point on the graph uses information from only the 1st 15 minutes of the article's release. The 2nd point corresponds to the accuracy achieved using data from only the first 30 minutes of the article release. We then increase in hour intervals up to and including 8 hrs of data."
   ]
  },
  {
   "cell_type": "code",
   "execution_count": 37,
   "metadata": {
    "collapsed": false
   },
   "outputs": [],
   "source": [
    "# scores are manually entered - calculations performed in separate notebook\n",
    "df_GBC_score = pd.DataFrame(data={\n",
    "        'Average_f1_score': [0.67, 0.69, 0.73, 0.76, 0.78, 0.79, 0.80, 0.82, 0.83, 0.84],\n",
    "        'HighPerformance(P4)_f1_score':[0.26,0.29,0.39,0.51,0.59,0.64,0.66,0.70,0.71,0.72]\n",
    "    }, index = [0.25, 0.5, 1, 2, 3, 4, 5, 6, 7, 8])"
   ]
  },
  {
   "cell_type": "code",
   "execution_count": 38,
   "metadata": {
    "collapsed": false
   },
   "outputs": [
    {
     "data": {
      "text/plain": [
       "<matplotlib.legend.Legend at 0x11b80cc0>"
      ]
     },
     "execution_count": 38,
     "metadata": {},
     "output_type": "execute_result"
    },
    {
     "data": {
      "image/png": "[encoded data removed]",
      "text/plain": [
       "<matplotlib.figure.Figure at 0x11b64438>"
      ]
     },
     "metadata": {},
     "output_type": "display_data"
    }
   ],
   "source": [
    "ax = df_GBC_score.plot(figsize=(8,7))\n",
    "\n",
    "ax.set_title(\"Model Accuracy vs. Hours since article publication\").set_fontsize(16)\n",
    "ax.set_xlabel(\"Hours since article was published\").set_fontsize(16)\n",
    "ax.set_ylabel(\"f1_score\").set_fontsize(16)\n",
    "ax.legend(loc=\"upper left\")"
   ]
  },
  {
   "cell_type": "markdown",
   "metadata": {},
   "source": [
    "#### Looking at the above:\n",
    "- We are trying to predict the amount of views an article will get in 7 days\n",
    "- More data obviously improves our predictions, but it is interesting to note how important the first 2-4 hours are when trying to classify a P4 (High performance - green line) article."
   ]
  }
 ],
 "metadata": {
  "anaconda-cloud": {},
  "kernelspec": {
   "display_name": "Python 2",
   "language": "python",
   "name": "python2"
  },
  "language_info": {
   "codemirror_mode": {
    "name": "ipython",
    "version": 2
   },
   "file_extension": ".py",
   "mimetype": "text/x-python",
   "name": "python",
   "nbconvert_exporter": "python",
   "pygments_lexer": "ipython2",
   "version": "2.7.12"
  }
 },
 "nbformat": 4,
 "nbformat_minor": 0
}
